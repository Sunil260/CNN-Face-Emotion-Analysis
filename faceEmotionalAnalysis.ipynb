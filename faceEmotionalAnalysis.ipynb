{
  "nbformat": 4,
  "nbformat_minor": 0,
  "metadata": {
    "colab": {
      "provenance": [],
      "gpuType": "T4",
      "authorship_tag": "ABX9TyNz4dl1AIrmSJLMRIxeW/ga",
      "include_colab_link": true
    },
    "kernelspec": {
      "name": "python3",
      "display_name": "Python 3"
    },
    "language_info": {
      "name": "python"
    },
    "accelerator": "GPU",
    "gpuClass": "standard"
  },
  "cells": [
    {
      "cell_type": "markdown",
      "metadata": {
        "id": "view-in-github",
        "colab_type": "text"
      },
      "source": [
        "<a href=\"https://colab.research.google.com/github/Sunil260/CNN-Face-Emotion-Analysis/blob/main/faceEmotionalAnalysis.ipynb\" target=\"_parent\"><img src=\"https://colab.research.google.com/assets/colab-badge.svg\" alt=\"Open In Colab\"/></a>"
      ]
    },
    {
      "cell_type": "markdown",
      "source": [
        "# Face Emotional Analysis To Produce a Song/Playlist/Genre Suggestion\n",
        "**Plan To Use PreTreained model then freeze the base of the model and train and additional 2 layers for emotional analysis. **\n"
      ],
      "metadata": {
        "id": "Rt2QM4QyWCom"
      }
    },
    {
      "cell_type": "code",
      "source": [
        "! pip install kaggle"
      ],
      "metadata": {
        "colab": {
          "base_uri": "https://localhost:8080/",
          "height": 0
        },
        "id": "bwKPLsfQbkMh",
        "outputId": "39568ec5-e339-41b3-ef56-56d5e6b4a2f9"
      },
      "execution_count": 2,
      "outputs": [
        {
          "output_type": "stream",
          "name": "stdout",
          "text": [
            "Looking in indexes: https://pypi.org/simple, https://us-python.pkg.dev/colab-wheels/public/simple/\n",
            "Requirement already satisfied: kaggle in /usr/local/lib/python3.10/dist-packages (1.5.13)\n",
            "Requirement already satisfied: six>=1.10 in /usr/local/lib/python3.10/dist-packages (from kaggle) (1.16.0)\n",
            "Requirement already satisfied: certifi in /usr/local/lib/python3.10/dist-packages (from kaggle) (2022.12.7)\n",
            "Requirement already satisfied: python-dateutil in /usr/local/lib/python3.10/dist-packages (from kaggle) (2.8.2)\n",
            "Requirement already satisfied: requests in /usr/local/lib/python3.10/dist-packages (from kaggle) (2.27.1)\n",
            "Requirement already satisfied: tqdm in /usr/local/lib/python3.10/dist-packages (from kaggle) (4.65.0)\n",
            "Requirement already satisfied: python-slugify in /usr/local/lib/python3.10/dist-packages (from kaggle) (8.0.1)\n",
            "Requirement already satisfied: urllib3 in /usr/local/lib/python3.10/dist-packages (from kaggle) (1.26.15)\n",
            "Requirement already satisfied: text-unidecode>=1.3 in /usr/local/lib/python3.10/dist-packages (from python-slugify->kaggle) (1.3)\n",
            "Requirement already satisfied: charset-normalizer~=2.0.0 in /usr/local/lib/python3.10/dist-packages (from requests->kaggle) (2.0.12)\n",
            "Requirement already satisfied: idna<4,>=2.5 in /usr/local/lib/python3.10/dist-packages (from requests->kaggle) (3.4)\n"
          ]
        }
      ]
    },
    {
      "cell_type": "code",
      "source": [
        "! mkdir ~/.kaggle"
      ],
      "metadata": {
        "id": "PonQe31ebmS9",
        "colab": {
          "base_uri": "https://localhost:8080/",
          "height": 0
        },
        "outputId": "6c89dea3-9596-47fb-b2d7-d28a0d1640d0"
      },
      "execution_count": 3,
      "outputs": [
        {
          "output_type": "stream",
          "name": "stdout",
          "text": [
            "mkdir: cannot create directory ‘/root/.kaggle’: File exists\n"
          ]
        }
      ]
    },
    {
      "cell_type": "code",
      "source": [
        "! cp kaggle.json ~/.kaggle/"
      ],
      "metadata": {
        "id": "B3ZPnZKmbmkd"
      },
      "execution_count": 4,
      "outputs": []
    },
    {
      "cell_type": "code",
      "source": [
        "! chmod 600 ~/.kaggle/kaggle.json"
      ],
      "metadata": {
        "id": "YOjq2tL6bmrm"
      },
      "execution_count": 6,
      "outputs": []
    },
    {
      "cell_type": "code",
      "source": [
        "! kaggle datasets download \"jonathanoheix/face-expression-recognition-dataset\"\n",
        "\n",
        "#folder_path = '../input/face-expression-recognition-dataset/images/'"
      ],
      "metadata": {
        "colab": {
          "base_uri": "https://localhost:8080/",
          "height": 0
        },
        "id": "k-CvtSWMdPav",
        "outputId": "5e3720fb-e77f-41fa-83c2-f08be7661d67"
      },
      "execution_count": 9,
      "outputs": [
        {
          "output_type": "stream",
          "name": "stdout",
          "text": [
            "face-expression-recognition-dataset.zip: Skipping, found more recently modified local copy (use --force to force download)\n"
          ]
        }
      ]
    },
    {
      "cell_type": "code",
      "source": [
        "! unzip \"face-expression-recognition-dataset\"\n"
      ],
      "metadata": {
        "id": "95V9WLWsRbkf",
        "colab": {
          "base_uri": "https://localhost:8080/",
          "height": 0
        },
        "outputId": "7733b89a-192e-40bc-9e3c-8170461a2846"
      },
      "execution_count": 7,
      "outputs": [
        {
          "output_type": "stream",
          "name": "stdout",
          "text": [
            "Archive:  face-expression-recognition-dataset.zip\n",
            "replace images/images/train/angry/0.jpg? [y]es, [n]o, [A]ll, [N]one, [r]ename: "
          ]
        }
      ]
    },
    {
      "cell_type": "code",
      "source": [
        "#Imports\n",
        "import os\n",
        "import numpy as np\n",
        "import matplotlib.pyplot as plt\n",
        "import tensorflow as tf\n",
        "import time\n",
        "keras = tf.keras\n",
        "layers = keras.layers\n",
        "models = keras.models\n"
      ],
      "metadata": {
        "id": "CVlXpRaPWpR8"
      },
      "execution_count": 10,
      "outputs": []
    },
    {
      "cell_type": "code",
      "source": [
        "!ls\n",
        "data_dir = \"./images/train\"\n",
        "validation_dir = \"./images/validation\"\n",
        "\n",
        "batch_size = 64\n",
        "img_size = 48\n",
        "!pwd\n",
        "\n",
        "train_ds = tf.keras.utils.image_dataset_from_directory(\n",
        "  data_dir,\n",
        "  validation_split=0.2,\n",
        "  subset=\"training\",\n",
        "  seed=123,\n",
        "  image_size=(img_size, img_size),\n",
        "  batch_size=batch_size)\n",
        "\n",
        "validation_ds = tf.keras.utils.image_dataset_from_directory(\n",
        "  validation_dir,\n",
        "  shuffle=True,\n",
        "  batch_size=batch_size,\n",
        "  image_size=(img_size, img_size))\n",
        "\n",
        "#datasets loaded completed\n",
        "\n"
      ],
      "metadata": {
        "colab": {
          "base_uri": "https://localhost:8080/",
          "height": 0
        },
        "id": "7ASeuPleXiqm",
        "outputId": "e58765a5-9bba-4390-d4d7-b40916be757c"
      },
      "execution_count": 24,
      "outputs": [
        {
          "output_type": "stream",
          "name": "stdout",
          "text": [
            "face-expression-recognition-dataset.zip  kaggle.json  saved_model\n",
            "images\t\t\t\t\t sample_data\n",
            "/content\n",
            "Found 28821 files belonging to 7 classes.\n",
            "Using 23057 files for training.\n",
            "Found 7066 files belonging to 7 classes.\n"
          ]
        }
      ]
    },
    {
      "cell_type": "code",
      "source": [
        "CATEGORIES = ['angry','disgust','fear','happy','neutral','sad','suprise']\n",
        "\n",
        "train_labels = train_ds.class_names\n",
        "validation_labels = validation_ds.class_names\n",
        "\n"
      ],
      "metadata": {
        "id": "QU0v2toK8p6R"
      },
      "execution_count": 25,
      "outputs": []
    },
    {
      "cell_type": "code",
      "source": [
        "#plotting the images\n",
        "plt.figure(figsize=(10, 10))\n",
        "for images, labels in train_ds.take(1):\n",
        "  for i in range(9):\n",
        "    ax = plt.subplot(3, 3, i + 1)\n",
        "    plt.imshow(images[i].numpy().astype(\"uint8\"))\n",
        "    plt.title(train_labels[labels[i]])\n",
        "    plt.axis(\"off\")"
      ],
      "metadata": {
        "id": "6TXdbTXLo-AX"
      },
      "execution_count": null,
      "outputs": []
    },
    {
      "cell_type": "code",
      "source": [
        "#Check the tensor shapes\n",
        "for image_batch, labels_batch in train_ds:\n",
        "  print(image_batch.shape)\n",
        "  print(labels_batch.shape)\n",
        "  break\n"
      ],
      "metadata": {
        "colab": {
          "base_uri": "https://localhost:8080/",
          "height": 0
        },
        "id": "LTyAef1speRu",
        "outputId": "2a14b94d-266d-45b0-df46-48e47c9c3342"
      },
      "execution_count": 27,
      "outputs": [
        {
          "output_type": "stream",
          "name": "stdout",
          "text": [
            "(64, 48, 48, 3)\n",
            "(64,)\n"
          ]
        }
      ]
    },
    {
      "cell_type": "code",
      "source": [
        "data_augmentation = tf.keras.Sequential([\n",
        "  layers.RandomFlip(\"horizontal_and_vertical\"),\n",
        "  layers.RandomRotation(0.2),\n",
        "])\n",
        "\n",
        "#Build the model\n",
        "num_classes = 7\n",
        "model = models.Sequential()\n",
        "\n",
        "#First layer to normalize the RGB chanels \n",
        "model.add(layers.Rescaling(1./255))\n",
        "\n",
        "model.add(data_augmentation)\n",
        "\n",
        "#3 layer stack for convlutional block\n",
        "\n",
        "model.add(layers.Conv2D(64, 3, padding='same',activation='relu'))\n",
        "model.add(layers.MaxPooling2D())\n",
        "\n",
        "model.add(layers.Conv2D(128, 3, padding='same',activation='relu'))\n",
        "model.add(layers.BatchNormalization())\n",
        "model.add(layers.Conv2D(128, 3, padding='same',activation='relu'))\n",
        "model.add(layers.MaxPooling2D())\n",
        "model.add(layers.Dropout(0.20))\n",
        "\n",
        "model.add(layers.Conv2D(256, 3, padding='same',activation='relu'))\n",
        "model.add(layers.BatchNormalization())\n",
        "model.add(layers.MaxPooling2D())\n",
        "model.add(layers.Dropout(0.20))\n",
        "\n",
        "model.add(layers.Conv2D(512, 3, padding='same',activation='relu'))\n",
        "model.add(layers.BatchNormalization())\n",
        "model.add(layers.MaxPooling2D())\n",
        "model.add(layers.Dropout(0.20))\n",
        "\n",
        "#Flatten for dense layer\n",
        "model.add(layers.Flatten())\n",
        "model.add(layers.BatchNormalization())\n",
        "model.add(layers.Dropout(.20, input_shape=(3,)))\n",
        "model.add(layers.Dense(128, activation='relu'))\n",
        "model.add(layers.Dropout(.20))\n",
        "model.add(layers.Dense(num_classes,activation = 'softmax'))\n"
      ],
      "metadata": {
        "id": "gvgXjhlep9UK"
      },
      "execution_count": 28,
      "outputs": []
    },
    {
      "cell_type": "code",
      "source": [
        "#Training the model\n",
        "model.compile(\n",
        "    optimizer= 'adam',\n",
        "    loss = keras.losses.SparseCategoricalCrossentropy(from_logits=True),metrics=['accuracy']\n",
        ")\n",
        "\n"
      ],
      "metadata": {
        "id": "MecDNwHc1WjZ"
      },
      "execution_count": 29,
      "outputs": []
    },
    {
      "cell_type": "code",
      "source": [
        "epochs=100\n",
        "history = model.fit(\n",
        "  train_ds,\n",
        "  validation_data=validation_ds,\n",
        "  epochs=epochs\n",
        ")\n"
      ],
      "metadata": {
        "colab": {
          "base_uri": "https://localhost:8080/",
          "height": 0
        },
        "id": "FbCmXHWP6OSz",
        "outputId": "99547e9d-68e4-441e-a268-021c360b7769"
      },
      "execution_count": 31,
      "outputs": [
        {
          "output_type": "stream",
          "name": "stdout",
          "text": [
            "Epoch 1/100\n",
            "361/361 [==============================] - 13s 35ms/step - loss: 1.7721 - accuracy: 0.2718 - val_loss: 1.8453 - val_accuracy: 0.2597\n",
            "Epoch 2/100\n",
            "361/361 [==============================] - 12s 32ms/step - loss: 1.7454 - accuracy: 0.2900 - val_loss: 1.8081 - val_accuracy: 0.2564\n",
            "Epoch 3/100\n",
            "361/361 [==============================] - 12s 33ms/step - loss: 1.7272 - accuracy: 0.2990 - val_loss: 1.7138 - val_accuracy: 0.2997\n",
            "Epoch 4/100\n",
            "361/361 [==============================] - 12s 33ms/step - loss: 1.6937 - accuracy: 0.3175 - val_loss: 1.8143 - val_accuracy: 0.2223\n",
            "Epoch 5/100\n",
            "361/361 [==============================] - 12s 33ms/step - loss: 1.6585 - accuracy: 0.3399 - val_loss: 1.6600 - val_accuracy: 0.3343\n",
            "Epoch 6/100\n",
            "361/361 [==============================] - 12s 33ms/step - loss: 1.6433 - accuracy: 0.3485 - val_loss: 1.5467 - val_accuracy: 0.3924\n",
            "Epoch 7/100\n",
            "361/361 [==============================] - 12s 33ms/step - loss: 1.6077 - accuracy: 0.3644 - val_loss: 1.5756 - val_accuracy: 0.3749\n",
            "Epoch 8/100\n",
            "361/361 [==============================] - 12s 33ms/step - loss: 1.5910 - accuracy: 0.3735 - val_loss: 1.4945 - val_accuracy: 0.4209\n",
            "Epoch 9/100\n",
            "361/361 [==============================] - 12s 33ms/step - loss: 1.5649 - accuracy: 0.3855 - val_loss: 1.6943 - val_accuracy: 0.3455\n",
            "Epoch 10/100\n",
            "361/361 [==============================] - 12s 33ms/step - loss: 1.5428 - accuracy: 0.3975 - val_loss: 1.4627 - val_accuracy: 0.4362\n",
            "Epoch 11/100\n",
            "361/361 [==============================] - 12s 33ms/step - loss: 1.5222 - accuracy: 0.4068 - val_loss: 1.4285 - val_accuracy: 0.4407\n",
            "Epoch 12/100\n",
            "361/361 [==============================] - 12s 33ms/step - loss: 1.5123 - accuracy: 0.4121 - val_loss: 1.4779 - val_accuracy: 0.4210\n",
            "Epoch 13/100\n",
            "361/361 [==============================] - 12s 33ms/step - loss: 1.4983 - accuracy: 0.4210 - val_loss: 1.5317 - val_accuracy: 0.4062\n",
            "Epoch 14/100\n",
            "361/361 [==============================] - 12s 33ms/step - loss: 1.4708 - accuracy: 0.4249 - val_loss: 1.4044 - val_accuracy: 0.4571\n",
            "Epoch 15/100\n",
            "361/361 [==============================] - 12s 33ms/step - loss: 1.4662 - accuracy: 0.4309 - val_loss: 1.3804 - val_accuracy: 0.4689\n",
            "Epoch 16/100\n",
            "361/361 [==============================] - 12s 34ms/step - loss: 1.4551 - accuracy: 0.4369 - val_loss: 1.4071 - val_accuracy: 0.4532\n",
            "Epoch 17/100\n",
            "361/361 [==============================] - 12s 33ms/step - loss: 1.4330 - accuracy: 0.4436 - val_loss: 1.3473 - val_accuracy: 0.4769\n",
            "Epoch 18/100\n",
            "361/361 [==============================] - 12s 34ms/step - loss: 1.4237 - accuracy: 0.4472 - val_loss: 1.3604 - val_accuracy: 0.4731\n",
            "Epoch 19/100\n",
            "361/361 [==============================] - 12s 33ms/step - loss: 1.4183 - accuracy: 0.4490 - val_loss: 1.3855 - val_accuracy: 0.4635\n",
            "Epoch 20/100\n",
            "361/361 [==============================] - 12s 33ms/step - loss: 1.4099 - accuracy: 0.4529 - val_loss: 1.3172 - val_accuracy: 0.4936\n",
            "Epoch 21/100\n",
            "361/361 [==============================] - 12s 32ms/step - loss: 1.3930 - accuracy: 0.4630 - val_loss: 1.3123 - val_accuracy: 0.4967\n",
            "Epoch 22/100\n",
            "361/361 [==============================] - 12s 33ms/step - loss: 1.3932 - accuracy: 0.4618 - val_loss: 1.3126 - val_accuracy: 0.4958\n",
            "Epoch 23/100\n",
            "361/361 [==============================] - 12s 33ms/step - loss: 1.3762 - accuracy: 0.4681 - val_loss: 1.4180 - val_accuracy: 0.4622\n",
            "Epoch 24/100\n",
            "361/361 [==============================] - 12s 33ms/step - loss: 1.3671 - accuracy: 0.4739 - val_loss: 1.2918 - val_accuracy: 0.5058\n",
            "Epoch 25/100\n",
            "361/361 [==============================] - 12s 33ms/step - loss: 1.3644 - accuracy: 0.4754 - val_loss: 1.2844 - val_accuracy: 0.5041\n",
            "Epoch 26/100\n",
            "361/361 [==============================] - 13s 36ms/step - loss: 1.3585 - accuracy: 0.4768 - val_loss: 1.3176 - val_accuracy: 0.4878\n",
            "Epoch 27/100\n",
            "361/361 [==============================] - 12s 33ms/step - loss: 1.3463 - accuracy: 0.4789 - val_loss: 1.3084 - val_accuracy: 0.5058\n",
            "Epoch 28/100\n",
            "361/361 [==============================] - 12s 33ms/step - loss: 1.3406 - accuracy: 0.4869 - val_loss: 1.3277 - val_accuracy: 0.5035\n",
            "Epoch 29/100\n",
            "361/361 [==============================] - 12s 33ms/step - loss: 1.3388 - accuracy: 0.4873 - val_loss: 1.2766 - val_accuracy: 0.5146\n",
            "Epoch 30/100\n",
            "361/361 [==============================] - 14s 37ms/step - loss: 1.3264 - accuracy: 0.4878 - val_loss: 1.7769 - val_accuracy: 0.3714\n",
            "Epoch 31/100\n",
            "361/361 [==============================] - 13s 36ms/step - loss: 1.3249 - accuracy: 0.4918 - val_loss: 1.2860 - val_accuracy: 0.5117\n",
            "Epoch 32/100\n",
            "361/361 [==============================] - 12s 33ms/step - loss: 1.3200 - accuracy: 0.4953 - val_loss: 1.2518 - val_accuracy: 0.5249\n",
            "Epoch 33/100\n",
            "361/361 [==============================] - 12s 33ms/step - loss: 1.3183 - accuracy: 0.4937 - val_loss: 1.2688 - val_accuracy: 0.5183\n",
            "Epoch 34/100\n",
            "361/361 [==============================] - 12s 32ms/step - loss: 1.3134 - accuracy: 0.4969 - val_loss: 1.2567 - val_accuracy: 0.5272\n",
            "Epoch 35/100\n",
            "361/361 [==============================] - 12s 33ms/step - loss: 1.3057 - accuracy: 0.4985 - val_loss: 1.3199 - val_accuracy: 0.4943\n",
            "Epoch 36/100\n",
            "361/361 [==============================] - 12s 33ms/step - loss: 1.3044 - accuracy: 0.4994 - val_loss: 1.2319 - val_accuracy: 0.5330\n",
            "Epoch 37/100\n",
            "361/361 [==============================] - 12s 33ms/step - loss: 1.2975 - accuracy: 0.5057 - val_loss: 1.2385 - val_accuracy: 0.5286\n",
            "Epoch 38/100\n",
            "361/361 [==============================] - 12s 33ms/step - loss: 1.2995 - accuracy: 0.5025 - val_loss: 1.2982 - val_accuracy: 0.5170\n",
            "Epoch 39/100\n",
            "361/361 [==============================] - 12s 32ms/step - loss: 1.2932 - accuracy: 0.5060 - val_loss: 1.2191 - val_accuracy: 0.5419\n",
            "Epoch 40/100\n",
            "361/361 [==============================] - 12s 34ms/step - loss: 1.2843 - accuracy: 0.5030 - val_loss: 1.2144 - val_accuracy: 0.5306\n",
            "Epoch 41/100\n",
            "361/361 [==============================] - 12s 33ms/step - loss: 1.2772 - accuracy: 0.5076 - val_loss: 1.2367 - val_accuracy: 0.5309\n",
            "Epoch 42/100\n",
            "361/361 [==============================] - 13s 36ms/step - loss: 1.2829 - accuracy: 0.5082 - val_loss: 1.3137 - val_accuracy: 0.5001\n",
            "Epoch 43/100\n",
            "361/361 [==============================] - 12s 34ms/step - loss: 1.2861 - accuracy: 0.5061 - val_loss: 1.1993 - val_accuracy: 0.5429\n",
            "Epoch 44/100\n",
            "361/361 [==============================] - 12s 33ms/step - loss: 1.2764 - accuracy: 0.5119 - val_loss: 1.2778 - val_accuracy: 0.5157\n",
            "Epoch 45/100\n",
            "361/361 [==============================] - 13s 36ms/step - loss: 1.2689 - accuracy: 0.5158 - val_loss: 1.2225 - val_accuracy: 0.5420\n",
            "Epoch 46/100\n",
            "361/361 [==============================] - 12s 33ms/step - loss: 1.2801 - accuracy: 0.5127 - val_loss: 1.2032 - val_accuracy: 0.5406\n",
            "Epoch 47/100\n",
            "361/361 [==============================] - 13s 36ms/step - loss: 1.2696 - accuracy: 0.5149 - val_loss: 1.2209 - val_accuracy: 0.5338\n",
            "Epoch 48/100\n",
            "361/361 [==============================] - 12s 33ms/step - loss: 1.2639 - accuracy: 0.5200 - val_loss: 1.2465 - val_accuracy: 0.5323\n",
            "Epoch 49/100\n",
            "361/361 [==============================] - 12s 33ms/step - loss: 1.2588 - accuracy: 0.5182 - val_loss: 1.2601 - val_accuracy: 0.5294\n",
            "Epoch 50/100\n",
            "361/361 [==============================] - 12s 33ms/step - loss: 1.2550 - accuracy: 0.5198 - val_loss: 1.3150 - val_accuracy: 0.5137\n",
            "Epoch 51/100\n",
            "361/361 [==============================] - 12s 33ms/step - loss: 1.2582 - accuracy: 0.5208 - val_loss: 1.2958 - val_accuracy: 0.5115\n",
            "Epoch 52/100\n",
            "361/361 [==============================] - 12s 34ms/step - loss: 1.2533 - accuracy: 0.5239 - val_loss: 1.1833 - val_accuracy: 0.5570\n",
            "Epoch 53/100\n",
            "361/361 [==============================] - 12s 34ms/step - loss: 1.2468 - accuracy: 0.5198 - val_loss: 1.1924 - val_accuracy: 0.5483\n",
            "Epoch 54/100\n",
            "361/361 [==============================] - 12s 32ms/step - loss: 1.2462 - accuracy: 0.5244 - val_loss: 1.2049 - val_accuracy: 0.5426\n",
            "Epoch 55/100\n",
            "361/361 [==============================] - 12s 33ms/step - loss: 1.2416 - accuracy: 0.5259 - val_loss: 1.2446 - val_accuracy: 0.5331\n",
            "Epoch 56/100\n",
            "361/361 [==============================] - 12s 33ms/step - loss: 1.2425 - accuracy: 0.5252 - val_loss: 1.2251 - val_accuracy: 0.5389\n",
            "Epoch 57/100\n",
            "361/361 [==============================] - 12s 33ms/step - loss: 1.2380 - accuracy: 0.5258 - val_loss: 1.2481 - val_accuracy: 0.5344\n",
            "Epoch 58/100\n",
            "361/361 [==============================] - 12s 33ms/step - loss: 1.2293 - accuracy: 0.5305 - val_loss: 1.2481 - val_accuracy: 0.5294\n",
            "Epoch 59/100\n",
            "361/361 [==============================] - 12s 33ms/step - loss: 1.2414 - accuracy: 0.5305 - val_loss: 1.1838 - val_accuracy: 0.5541\n",
            "Epoch 60/100\n",
            "361/361 [==============================] - 12s 33ms/step - loss: 1.2282 - accuracy: 0.5331 - val_loss: 1.1720 - val_accuracy: 0.5617\n",
            "Epoch 61/100\n",
            "361/361 [==============================] - 12s 33ms/step - loss: 1.2319 - accuracy: 0.5335 - val_loss: 1.2472 - val_accuracy: 0.5293\n",
            "Epoch 62/100\n",
            "361/361 [==============================] - 12s 33ms/step - loss: 1.2221 - accuracy: 0.5336 - val_loss: 1.1735 - val_accuracy: 0.5599\n",
            "Epoch 63/100\n",
            "361/361 [==============================] - 12s 33ms/step - loss: 1.2157 - accuracy: 0.5352 - val_loss: 1.2308 - val_accuracy: 0.5333\n",
            "Epoch 64/100\n",
            "361/361 [==============================] - 12s 33ms/step - loss: 1.2203 - accuracy: 0.5342 - val_loss: 1.1652 - val_accuracy: 0.5635\n",
            "Epoch 65/100\n",
            "361/361 [==============================] - 12s 33ms/step - loss: 1.2188 - accuracy: 0.5353 - val_loss: 1.1821 - val_accuracy: 0.5583\n",
            "Epoch 66/100\n",
            "361/361 [==============================] - 12s 33ms/step - loss: 1.2187 - accuracy: 0.5355 - val_loss: 1.1813 - val_accuracy: 0.5560\n",
            "Epoch 67/100\n",
            "361/361 [==============================] - 12s 33ms/step - loss: 1.2125 - accuracy: 0.5385 - val_loss: 1.2163 - val_accuracy: 0.5415\n",
            "Epoch 68/100\n",
            "361/361 [==============================] - 12s 33ms/step - loss: 1.2126 - accuracy: 0.5342 - val_loss: 1.1692 - val_accuracy: 0.5542\n",
            "Epoch 69/100\n",
            "361/361 [==============================] - 12s 33ms/step - loss: 1.2114 - accuracy: 0.5384 - val_loss: 1.2437 - val_accuracy: 0.5429\n",
            "Epoch 70/100\n",
            "361/361 [==============================] - 12s 33ms/step - loss: 1.2093 - accuracy: 0.5386 - val_loss: 1.1725 - val_accuracy: 0.5624\n",
            "Epoch 71/100\n",
            "361/361 [==============================] - 12s 33ms/step - loss: 1.2081 - accuracy: 0.5356 - val_loss: 1.1884 - val_accuracy: 0.5573\n",
            "Epoch 72/100\n",
            "361/361 [==============================] - 12s 32ms/step - loss: 1.2098 - accuracy: 0.5420 - val_loss: 1.1665 - val_accuracy: 0.5633\n",
            "Epoch 73/100\n",
            "361/361 [==============================] - 12s 33ms/step - loss: 1.2039 - accuracy: 0.5416 - val_loss: 1.1661 - val_accuracy: 0.5759\n",
            "Epoch 74/100\n",
            "361/361 [==============================] - 12s 33ms/step - loss: 1.2027 - accuracy: 0.5412 - val_loss: 1.2226 - val_accuracy: 0.5372\n",
            "Epoch 75/100\n",
            "361/361 [==============================] - 12s 34ms/step - loss: 1.1980 - accuracy: 0.5411 - val_loss: 1.1334 - val_accuracy: 0.5735\n",
            "Epoch 76/100\n",
            "361/361 [==============================] - 12s 34ms/step - loss: 1.1951 - accuracy: 0.5441 - val_loss: 1.1770 - val_accuracy: 0.5665\n",
            "Epoch 77/100\n",
            "361/361 [==============================] - 12s 33ms/step - loss: 1.2015 - accuracy: 0.5433 - val_loss: 1.1419 - val_accuracy: 0.5713\n",
            "Epoch 78/100\n",
            "361/361 [==============================] - 12s 33ms/step - loss: 1.1975 - accuracy: 0.5409 - val_loss: 1.1653 - val_accuracy: 0.5679\n",
            "Epoch 79/100\n",
            "361/361 [==============================] - 12s 33ms/step - loss: 1.1944 - accuracy: 0.5446 - val_loss: 1.1802 - val_accuracy: 0.5579\n",
            "Epoch 80/100\n",
            "361/361 [==============================] - 12s 33ms/step - loss: 1.1910 - accuracy: 0.5424 - val_loss: 1.1364 - val_accuracy: 0.5787\n",
            "Epoch 81/100\n",
            "361/361 [==============================] - 12s 33ms/step - loss: 1.1972 - accuracy: 0.5431 - val_loss: 1.1300 - val_accuracy: 0.5736\n",
            "Epoch 82/100\n",
            "361/361 [==============================] - 12s 33ms/step - loss: 1.1909 - accuracy: 0.5468 - val_loss: 1.2169 - val_accuracy: 0.5478\n",
            "Epoch 83/100\n",
            "361/361 [==============================] - 12s 33ms/step - loss: 1.1846 - accuracy: 0.5482 - val_loss: 1.2099 - val_accuracy: 0.5491\n",
            "Epoch 84/100\n",
            "361/361 [==============================] - 12s 34ms/step - loss: 1.1872 - accuracy: 0.5456 - val_loss: 1.1553 - val_accuracy: 0.5692\n",
            "Epoch 85/100\n",
            "361/361 [==============================] - 13s 35ms/step - loss: 1.1847 - accuracy: 0.5486 - val_loss: 1.1574 - val_accuracy: 0.5678\n",
            "Epoch 86/100\n",
            "361/361 [==============================] - 12s 33ms/step - loss: 1.1834 - accuracy: 0.5537 - val_loss: 1.1469 - val_accuracy: 0.5732\n",
            "Epoch 87/100\n",
            "361/361 [==============================] - 12s 33ms/step - loss: 1.1841 - accuracy: 0.5505 - val_loss: 1.1628 - val_accuracy: 0.5689\n",
            "Epoch 88/100\n",
            "361/361 [==============================] - 12s 34ms/step - loss: 1.1733 - accuracy: 0.5500 - val_loss: 1.1481 - val_accuracy: 0.5737\n",
            "Epoch 89/100\n",
            "361/361 [==============================] - 13s 35ms/step - loss: 1.1824 - accuracy: 0.5499 - val_loss: 1.1670 - val_accuracy: 0.5737\n",
            "Epoch 90/100\n",
            "361/361 [==============================] - 13s 36ms/step - loss: 1.1749 - accuracy: 0.5508 - val_loss: 1.1449 - val_accuracy: 0.5744\n",
            "Epoch 91/100\n",
            "361/361 [==============================] - 12s 33ms/step - loss: 1.1767 - accuracy: 0.5530 - val_loss: 1.1679 - val_accuracy: 0.5640\n",
            "Epoch 92/100\n",
            "361/361 [==============================] - 12s 33ms/step - loss: 1.1742 - accuracy: 0.5530 - val_loss: 1.1443 - val_accuracy: 0.5793\n",
            "Epoch 93/100\n",
            "361/361 [==============================] - 12s 33ms/step - loss: 1.1692 - accuracy: 0.5543 - val_loss: 1.1299 - val_accuracy: 0.5859\n",
            "Epoch 94/100\n",
            "361/361 [==============================] - 12s 33ms/step - loss: 1.1704 - accuracy: 0.5530 - val_loss: 1.1911 - val_accuracy: 0.5541\n",
            "Epoch 95/100\n",
            "361/361 [==============================] - 12s 34ms/step - loss: 1.1750 - accuracy: 0.5506 - val_loss: 1.1382 - val_accuracy: 0.5800\n",
            "Epoch 96/100\n",
            "361/361 [==============================] - 12s 34ms/step - loss: 1.1655 - accuracy: 0.5561 - val_loss: 1.1106 - val_accuracy: 0.5797\n",
            "Epoch 97/100\n",
            "361/361 [==============================] - 12s 34ms/step - loss: 1.1654 - accuracy: 0.5587 - val_loss: 1.1447 - val_accuracy: 0.5716\n",
            "Epoch 98/100\n",
            "361/361 [==============================] - 12s 33ms/step - loss: 1.1636 - accuracy: 0.5557 - val_loss: 1.1374 - val_accuracy: 0.5821\n",
            "Epoch 99/100\n",
            "361/361 [==============================] - 12s 33ms/step - loss: 1.1651 - accuracy: 0.5558 - val_loss: 1.1711 - val_accuracy: 0.5726\n",
            "Epoch 100/100\n",
            "361/361 [==============================] - 12s 33ms/step - loss: 1.1665 - accuracy: 0.5539 - val_loss: 1.1440 - val_accuracy: 0.5761\n"
          ]
        }
      ]
    },
    {
      "cell_type": "code",
      "source": [
        "model.summary()\n",
        "# Save the entire model as a SavedModel.\n",
        "!mkdir -p saved_model\n",
        "\n",
        "# Save the entire model to a HDF5 file.\n",
        "# The '.h5' extension indicates that the model should be saved to HDF5.\n",
        "model.save('../face_model_highePoch.h5')"
      ],
      "metadata": {
        "id": "g0vpFdjn-RI1",
        "outputId": "7aaadd11-61e9-4e98-8466-812bdb631797",
        "colab": {
          "base_uri": "https://localhost:8080/"
        }
      },
      "execution_count": 33,
      "outputs": [
        {
          "output_type": "stream",
          "name": "stdout",
          "text": [
            "Model: \"sequential_7\"\n",
            "_________________________________________________________________\n",
            " Layer (type)                Output Shape              Param #   \n",
            "=================================================================\n",
            " rescaling_3 (Rescaling)     (None, 48, 48, 3)         0         \n",
            "                                                                 \n",
            " sequential_6 (Sequential)   (None, 48, 48, 3)         0         \n",
            "                                                                 \n",
            " conv2d_12 (Conv2D)          (None, 48, 48, 64)        1792      \n",
            "                                                                 \n",
            " max_pooling2d_9 (MaxPooling  (None, 24, 24, 64)       0         \n",
            " 2D)                                                             \n",
            "                                                                 \n",
            " conv2d_13 (Conv2D)          (None, 24, 24, 128)       73856     \n",
            "                                                                 \n",
            " batch_normalization_10 (Bat  (None, 24, 24, 128)      512       \n",
            " chNormalization)                                                \n",
            "                                                                 \n",
            " conv2d_14 (Conv2D)          (None, 24, 24, 128)       147584    \n",
            "                                                                 \n",
            " max_pooling2d_10 (MaxPoolin  (None, 12, 12, 128)      0         \n",
            " g2D)                                                            \n",
            "                                                                 \n",
            " dropout_10 (Dropout)        (None, 12, 12, 128)       0         \n",
            "                                                                 \n",
            " conv2d_15 (Conv2D)          (None, 12, 12, 256)       295168    \n",
            "                                                                 \n",
            " batch_normalization_11 (Bat  (None, 12, 12, 256)      1024      \n",
            " chNormalization)                                                \n",
            "                                                                 \n",
            " max_pooling2d_11 (MaxPoolin  (None, 6, 6, 256)        0         \n",
            " g2D)                                                            \n",
            "                                                                 \n",
            " dropout_11 (Dropout)        (None, 6, 6, 256)         0         \n",
            "                                                                 \n",
            " conv2d_16 (Conv2D)          (None, 6, 6, 512)         1180160   \n",
            "                                                                 \n",
            " batch_normalization_12 (Bat  (None, 6, 6, 512)        2048      \n",
            " chNormalization)                                                \n",
            "                                                                 \n",
            " max_pooling2d_12 (MaxPoolin  (None, 3, 3, 512)        0         \n",
            " g2D)                                                            \n",
            "                                                                 \n",
            " dropout_12 (Dropout)        (None, 3, 3, 512)         0         \n",
            "                                                                 \n",
            " flatten_3 (Flatten)         (None, 4608)              0         \n",
            "                                                                 \n",
            " batch_normalization_13 (Bat  (None, 4608)             18432     \n",
            " chNormalization)                                                \n",
            "                                                                 \n",
            " dropout_13 (Dropout)        (None, 4608)              0         \n",
            "                                                                 \n",
            " dense_6 (Dense)             (None, 128)               589952    \n",
            "                                                                 \n",
            " dropout_14 (Dropout)        (None, 128)               0         \n",
            "                                                                 \n",
            " dense_7 (Dense)             (None, 7)                 903       \n",
            "                                                                 \n",
            "=================================================================\n",
            "Total params: 2,311,431\n",
            "Trainable params: 2,300,423\n",
            "Non-trainable params: 11,008\n",
            "_________________________________________________________________\n"
          ]
        }
      ]
    },
    {
      "cell_type": "code",
      "source": [
        "acc = history.history['accuracy']\n",
        "val_acc = history.history['val_accuracy']\n",
        "\n",
        "loss = history.history['loss']\n",
        "val_loss = history.history['val_loss']\n",
        "\n",
        "epochs_range = range(epochs)\n",
        "\n",
        "plt.figure(figsize=(8, 8))\n",
        "plt.subplot(1, 2, 1)\n",
        "plt.plot(epochs_range, acc, label='Training Accuracy')\n",
        "plt.plot(epochs_range, val_acc, label='Validation Accuracy')\n",
        "plt.legend(loc='lower right')\n",
        "plt.title('Training and Validation Accuracy')\n",
        "\n",
        "plt.subplot(1, 2, 2)\n",
        "plt.plot(epochs_range, loss, label='Training Loss')\n",
        "plt.plot(epochs_range, val_loss, label='Validation Loss')\n",
        "plt.legend(loc='upper right')\n",
        "plt.title('Training and Validation Loss')\n",
        "plt.show()"
      ],
      "metadata": {
        "colab": {
          "base_uri": "https://localhost:8080/",
          "height": 699
        },
        "id": "7mym63c495od",
        "outputId": "c1dcc563-9062-47f9-b60d-46b269994e35"
      },
      "execution_count": 34,
      "outputs": [
        {
          "output_type": "display_data",
          "data": {
            "text/plain": [
              "<Figure size 800x800 with 2 Axes>"
            ],
            "image/png": "[encoded data removed]"
          },
          "metadata": {}
        }
      ]
    }
  ]
}